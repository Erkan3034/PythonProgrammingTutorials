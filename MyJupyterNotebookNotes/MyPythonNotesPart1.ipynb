{
 "cells": [
  {
   "cell_type": "code",
   "execution_count": 1,
   "id": "f4826251-a673-4d72-b5a3-cc4da1dc59e0",
   "metadata": {},
   "outputs": [
    {
     "name": "stdout",
     "output_type": "stream",
     "text": [
      "Hello \n"
     ]
    }
   ],
   "source": [
    "print(\"Hello \")"
   ]
  },
  {
   "cell_type": "code",
   "execution_count": 3,
   "id": "16ea118e-9d67-4d49-8994-1133ba3d1a6a",
   "metadata": {},
   "outputs": [
    {
     "name": "stdout",
     "output_type": "stream",
     "text": [
      "Pythona hoşgeldin Erkan\n"
     ]
    }
   ],
   "source": [
    "print(\"Pythona hoşgeldin Erkan\")"
   ]
  },
  {
   "cell_type": "code",
   "execution_count": 131,
   "id": "6895dac8-4268-4150-8e90-826cb2545796",
   "metadata": {},
   "outputs": [
    {
     "name": "stdout",
     "output_type": "stream",
     "text": [
      "[1, 2, 3, 4, 5, 6]\n"
     ]
    }
   ],
   "source": [
    "# Step 1: Create an initial list\n",
    "my_list = [1, 2, 3]\n",
    "\n",
    "# Step 2: Create another iterable (list)\n",
    "additional_elements = [4, 5, 6]\n",
    "\n",
    "# Step 3: Use the \"\"extend\"\" method to add elements\n",
    "my_list.extend(additional_elements)\n",
    "\n",
    "# Output the modified list\n",
    "print(my_list)"
   ]
  },
  {
   "cell_type": "code",
   "execution_count": 29,
   "id": "a6c3d932-b9ca-489a-b7c7-931348952140",
   "metadata": {},
   "outputs": [
    {
     "name": "stdout",
     "output_type": "stream",
     "text": [
      "5\n",
      " \n",
      "1\n"
     ]
    }
   ],
   "source": [
    "ad = \"Erkan\"\n",
    "print(len(ad)) # karakter sayısı\n",
    "\n",
    "print(\" \")\n",
    "\n",
    "#İsimdeki belli bir karakterin sayısı\n",
    "isim = \"PYTHON\"\n",
    "\n",
    "karakter= \"H\"\n",
    "karakterSayisi=isim.count(karakter)\n",
    "print(karakterSayisi)\n"
   ]
  },
  {
   "cell_type": "markdown",
   "id": "53f63fb9-1ba9-47cb-b164-9142bd134fbe",
   "metadata": {},
   "source": [
    "                                                               PYTHONDA SAYILAR:"
   ]
  },
  {
   "cell_type": "code",
   "execution_count": 35,
   "id": "16090df8-52c2-44e6-a8dd-3953fd2fc8d1",
   "metadata": {
    "scrolled": true
   },
   "outputs": [
    {
     "data": {
      "text/plain": [
       "14.5"
      ]
     },
     "execution_count": 35,
     "metadata": {},
     "output_type": "execute_result"
    }
   ],
   "source": [
    "# toplama\n",
    "3+4\n"
   ]
  },
  {
   "cell_type": "code",
   "execution_count": 33,
   "id": "652907c4-8c89-422a-9a15-4d5cb21f89cd",
   "metadata": {},
   "outputs": [
    {
     "data": {
      "text/plain": [
       "4"
      ]
     },
     "execution_count": 33,
     "metadata": {},
     "output_type": "execute_result"
    }
   ],
   "source": [
    "#çıkarma\n",
    "8-4\n"
   ]
  },
  {
   "cell_type": "code",
   "execution_count": 43,
   "id": "b8ee6f0f-7007-463b-aaae-fa54ae7eb6ba",
   "metadata": {},
   "outputs": [
    {
     "name": "stdout",
     "output_type": "stream",
     "text": [
      "1000\n",
      "59049\n"
     ]
    }
   ],
   "source": [
    "i=10\n",
    "print(i*i*i)\n",
    "\n",
    "a=9\n",
    "print(a*a*a*a*a)"
   ]
  },
  {
   "cell_type": "code",
   "execution_count": 45,
   "id": "edde84f3-2668-417d-83c6-6d4585dbf40a",
   "metadata": {},
   "outputs": [
    {
     "data": {
      "text/plain": [
       "10"
      ]
     },
     "execution_count": 45,
     "metadata": {},
     "output_type": "execute_result"
    }
   ],
   "source": [
    "erkan=10\n",
    "erkan\n"
   ]
  },
  {
   "cell_type": "code",
   "execution_count": 49,
   "id": "84bbe7f9-e881-4578-8848-25a6aed13021",
   "metadata": {},
   "outputs": [
    {
     "data": {
      "text/plain": [
       "4.5"
      ]
     },
     "execution_count": 49,
     "metadata": {},
     "output_type": "execute_result"
    }
   ],
   "source": [
    "erkan = 4.5\n",
    "erkan"
   ]
  },
  {
   "cell_type": "markdown",
   "id": "24aace32-cd05-4541-9fef-5c53f538cb50",
   "metadata": {},
   "source": [
    "Pythonda değişkenler dinamik yapıdadır. yani int tutan değişken daha sonra farklı veri tipi olan float tipinde bir değer de tutabilir. Yukardaki örenekte gösterildi"
   ]
  },
  {
   "cell_type": "code",
   "execution_count": 53,
   "id": "42a5f74f-f78c-46ac-8cdf-1ea346f64865",
   "metadata": {},
   "outputs": [
    {
     "data": {
      "text/plain": [
       "25"
      ]
     },
     "execution_count": 53,
     "metadata": {},
     "output_type": "execute_result"
    }
   ],
   "source": [
    "a=5\n",
    "b=10\n",
    "c= a+2*b\n",
    "c\n"
   ]
  },
  {
   "cell_type": "markdown",
   "id": "16b0cc49-57e0-4ddf-a9b9-ab511be3a422",
   "metadata": {},
   "source": [
    "Pythonda değişkenlerin değerini değiştirmek istediğimizdde bizi çok kısa bir işlem karşılar.  Bu işlem ile değişkenlerin değerlerini birbirlerine atayabiliriz. C# gibi dillerde yaptığımız temp işlemine hiç gerek kalmaz böylece\n"
   ]
  },
  {
   "cell_type": "code",
   "execution_count": 61,
   "id": "8c120cfc-d936-4e7f-ae30-24b199ae3186",
   "metadata": {},
   "outputs": [
    {
     "data": {
      "text/plain": [
       "5"
      ]
     },
     "execution_count": 61,
     "metadata": {},
     "output_type": "execute_result"
    }
   ],
   "source": [
    "a = 5 # a'nın değeri 5\n",
    "a"
   ]
  },
  {
   "cell_type": "code",
   "execution_count": 63,
   "id": "7f3a7686-7b92-404c-90fd-74fbed954223",
   "metadata": {},
   "outputs": [
    {
     "data": {
      "text/plain": [
       "10"
      ]
     },
     "execution_count": 63,
     "metadata": {},
     "output_type": "execute_result"
    }
   ],
   "source": [
    "b= 10 #b'nin değeri 10\n",
    "b"
   ]
  },
  {
   "cell_type": "code",
   "execution_count": 80,
   "id": "1fed2031-2811-4cae-8c2a-3d95f39e402f",
   "metadata": {},
   "outputs": [
    {
     "name": "stdout",
     "output_type": "stream",
     "text": [
      "5\n"
     ]
    }
   ],
   "source": [
    "a,b= b,a # burda a'nın değeri b'ye. b'nin değeri a'ya taşındı.\n",
    "#print(a) //çıktı = 10\n",
    "#print(b)  // çıktı = 5\n"
   ]
  },
  {
   "cell_type": "markdown",
   "id": "1d043e66-18e7-41d0-ac86-2313e6649c35",
   "metadata": {},
   "source": [
    "               Tamsayı bölmesinde yani bir sayının bir sayıya bölümünden ortaya çıkan sonucu bulmak için //(çift slash) işaretini kullanırız."
   ]
  },
  {
   "cell_type": "code",
   "execution_count": 13,
   "id": "1a9148e2-6be0-401a-af17-7654dae26803",
   "metadata": {},
   "outputs": [
    {
     "name": "stdout",
     "output_type": "stream",
     "text": [
      "14\n",
      "14.8\n"
     ]
    }
   ],
   "source": [
    "tamSayı = 74//5 # Tamsayı bölmesi\n",
    "normal = 74/5   #normal bölme\n",
    "print(tamSayı)\n",
    "print(normal)"
   ]
  },
  {
   "cell_type": "code",
   "execution_count": null,
   "id": "a5266791-3ffd-49be-8410-e75b69572f94",
   "metadata": {},
   "outputs": [],
   "source": [
    "                                 Kalanı Bulma ( % ) operatörü. bir sayının bir sayıya bölğmünden kalanı bulmaya yarar. "
   ]
  },
  {
   "cell_type": "code",
   "execution_count": 15,
   "id": "e6b202c9-f1d1-4326-baf1-e452a8deff2d",
   "metadata": {},
   "outputs": [
    {
     "data": {
      "text/plain": [
       "2"
      ]
     },
     "execution_count": 15,
     "metadata": {},
     "output_type": "execute_result"
    }
   ],
   "source": [
    "275%3 "
   ]
  },
  {
   "cell_type": "code",
   "execution_count": null,
   "id": "d340788b-5dd7-4d07-aa81-1c609bdd2a13",
   "metadata": {},
   "outputs": [],
   "source": [
    "------------------------------------üs alma operatörü ise iki tane yıldız işaretinin yan yana oluşu ile buluruz--------------"
   ]
  },
  {
   "cell_type": "code",
   "execution_count": 17,
   "id": "b73bae99-b660-4b70-8fd6-2361b865514b",
   "metadata": {},
   "outputs": [
    {
     "data": {
      "text/plain": [
       "16"
      ]
     },
     "execution_count": 17,
     "metadata": {},
     "output_type": "execute_result"
    }
   ],
   "source": [
    "2**4 # 2^4"
   ]
  },
  {
   "cell_type": "markdown",
   "id": "24e8ece1-e58d-4bbe-8ee6-5f650ee46cc2",
   "metadata": {},
   "source": [
    "\n",
    "\n",
    "\n",
    "              ------------------------------------------------------PYTHONDA STRİNGLER-----------------------------------------------------"
   ]
  },
  {
   "cell_type": "markdown",
   "id": "12adb984-7ce6-4e06-9417-4b1a44230fd4",
   "metadata": {},
   "source": [
    "Pythonda stringin indexini [index numarası] ile buluruz. Diğer programlama dillerinde olduğu gibi 0'dan başlarız fakat sondan başlamak istediğimzde ise sondan -1 ile başlarız.\n"
   ]
  },
  {
   "cell_type": "code",
   "execution_count": 4,
   "id": "1425b92a-4129-44b2-9586-ed0593e28526",
   "metadata": {},
   "outputs": [
    {
     "name": "stdout",
     "output_type": "stream",
     "text": [
      "E\n",
      "n\n"
     ]
    }
   ],
   "source": [
    "#Normal index alma\n",
    "a=\"Erkan\"\n",
    "print(a[0])  #çıktı = E\n",
    "\n",
    "#sondan index alma\n",
    "print(a[-1])  #çıktı = n"
   ]
  },
  {
   "cell_type": "markdown",
   "id": "42723de9-e1d4-401f-a897-01028a1ef544",
   "metadata": {},
   "source": [
    "\n",
    "\n",
    "\n",
    "            ------------------------------------------------------String Parçalama-----------------------------------------------------"
   ]
  },
  {
   "cell_type": "code",
   "execution_count": 20,
   "id": "cb76c8de-d600-4bd1-882e-d9e6dc8eb541",
   "metadata": {},
   "outputs": [
    {
     "name": "stdout",
     "output_type": "stream",
     "text": [
      "sayar\n",
      "Bilgisayar Tekn\n",
      "syr\n",
      "irelmetsiS mişiliB eV isijolonkeT rayasigliB\n"
     ]
    }
   ],
   "source": [
    "a = \"Bilgisayar Teknolojisi Ve Bilişim Sistemleri\"\n",
    "print(a[5:10])  # 5. indexten başla 10 indexe(10 dahil değil) kadar yazdır.\n",
    "print(a[:15])   # ilk indexten 15. indexe kadar(dahil değil) yaz.\n",
    "print(a[5:10:2])  # 5. indexten başla 10 indexe(10 dahil değil) kadar 2'şer arttırarak yazdır. (ÇIKTI = syr)\n",
    "print(a[::-1])   # Sondan başlayarak tersten yazdırır.\n",
    "#------------------------------------------------> [Başlama değeri : Bitiş Değeri : Artış değeri]"
   ]
  },
  {
   "cell_type": "markdown",
   "id": "f481b430-50a1-4c44-9aa0-3d5d5ca4694b",
   "metadata": {},
   "source": [
    "\n",
    "\n",
    "-------------------------------------------------------------------------String Özellikleri-----------------------------------------------------"
   ]
  },
  {
   "cell_type": "code",
   "execution_count": 31,
   "id": "37566387-5341-4f93-a49b-29fec37685ce",
   "metadata": {},
   "outputs": [
    {
     "name": "stdout",
     "output_type": "stream",
     "text": [
      "5\n",
      "ERKANERKANERKANERKANERKAN\n"
     ]
    }
   ],
   "source": [
    "isim = \"ERKAN\"\n",
    "print(len(isim)) # len() ile string uzunluğunu buluruz.(5)\n",
    "\n",
    "print(isim*5) # string çarpma, stringi belirtilen miktar kadar yazar"
   ]
  },
  {
   "cell_type": "markdown",
   "id": "359dd56c-1e60-4d12-b145-e7d186e82def",
   "metadata": {},
   "source": [
    "\n",
    "\n",
    "--------------------------------------------------------------VERİ TİPİ DÖNÜŞÜMLERİ ----------------------------------------------------"
   ]
  },
  {
   "cell_type": "code",
   "execution_count": 35,
   "id": "e2aed1ee-f4ba-45e9-ab59-47835ba0602e",
   "metadata": {},
   "outputs": [
    {
     "name": "stdout",
     "output_type": "stream",
     "text": [
      "25.0\n",
      "25\n"
     ]
    }
   ],
   "source": [
    "# tamsayı değerini float değerine dönüştürme\n",
    "sayi =25\n",
    "print(float(sayi)) # çıktı = 25.0\n",
    "\n",
    "#ondalıklı(float) sayıyı int değerine dönüştürme\n",
    "sayi2=25.4\n",
    "print(int(sayi2))   #çıktı = 25"
   ]
  },
  {
   "cell_type": "markdown",
   "id": "b638d26e-d995-4006-bede-a1439fd0b7c4",
   "metadata": {},
   "source": [
    "\n",
    "\n",
    "---------------------------------------------------------> SAYILARI STRİNGE ÇEVİRME----------------------------------------"
   ]
  },
  {
   "cell_type": "code",
   "execution_count": 47,
   "id": "9da21f69-ae76-4a98-99ea-01466dd21567",
   "metadata": {},
   "outputs": [
    {
     "data": {
      "text/plain": [
       "'258963147'"
      ]
     },
     "execution_count": 47,
     "metadata": {},
     "output_type": "execute_result"
    }
   ],
   "source": [
    "sayi3= 258963147\n",
    "newSayi= str(sayi3)\n",
    "newSayi\n",
    "#len(newSayi)"
   ]
  },
  {
   "cell_type": "code",
   "execution_count": 53,
   "id": "fbe94ea7-c01a-4072-be88-ce781fff5529",
   "metadata": {},
   "outputs": [
    {
     "name": "stdout",
     "output_type": "stream",
     "text": [
      "Merhaba\t ERKAN\t nasılsın?\n"
     ]
    }
   ],
   "source": [
    "print(\"Merhaba\\t ERKAN\\t nasılsın?\") #\\t tab boşluğu yaratır"
   ]
  },
  {
   "cell_type": "markdown",
   "id": "2ba1ce9b-d1f2-4152-8bd5-4941b848cd99",
   "metadata": {},
   "source": [
    "\n",
    "\n",
    "-------------------------------------------------------Bazı string Fonksiyonları---------------------------"
   ]
  },
  {
   "cell_type": "code",
   "execution_count": 61,
   "id": "d5634701-3363-4b69-99ef-a94c862b00a4",
   "metadata": {},
   "outputs": [
    {
     "name": "stdout",
     "output_type": "stream",
     "text": [
      "<class 'int'>\n",
      "<class 'float'>\n"
     ]
    }
   ],
   "source": [
    "a=25\n",
    "print(type(a))  # type() fonksiyonu değişkenimizin hangi tipte olduğunu belirtir.\n",
    "\n",
    "b=21.5\n",
    "print(type(b))"
   ]
  },
  {
   "cell_type": "markdown",
   "id": "0ebaa5ec-9959-4c8a-9cd0-90457e214f28",
   "metadata": {},
   "source": [
    "---------------------------------------------------  Print fonksiyonunda sep parametresi--------------------------"
   ]
  },
  {
   "cell_type": "code",
   "execution_count": 65,
   "id": "3b573796-b6a8-4a9c-9252-91a8d8c231ff",
   "metadata": {},
   "outputs": [
    {
     "name": "stdout",
     "output_type": "stream",
     "text": [
      "12/05/2024\n"
     ]
    }
   ],
   "source": [
    "# sep parametresi yazdırdığımız değerlerin arasına  istediğimiz karakteri yerleştirmemizi sağlar. \n",
    "print(\"12\",\"05\",\"2024\",sep=\"/\") # tarihlerin arasına / işaretini isteğimize göre yerleştirdik."
   ]
  },
  {
   "cell_type": "code",
   "execution_count": 67,
   "id": "f3066223-b3a6-4b33-84b0-55d4eeae485b",
   "metadata": {},
   "outputs": [
    {
     "name": "stdout",
     "output_type": "stream",
     "text": [
      "P Y T H O N\n"
     ]
    }
   ],
   "source": [
    "# *(yıldız) parametresi print fonksiyonunda bulunan her karakterin arasına  birer boşluk bırakarak yazdırır.\n",
    "print(*\"PYTHON\")"
   ]
  },
  {
   "cell_type": "code",
   "execution_count": 73,
   "id": "b2004341-73e9-4c2b-8728-4eeb5cced075",
   "metadata": {},
   "outputs": [
    {
     "name": "stdout",
     "output_type": "stream",
     "text": [
      "5 ve 10'nun toplamı 15'tir\n"
     ]
    }
   ],
   "source": [
    "#FORMATLAMA işlemini format() fonksiyonunu kullanarak yapıyoruz.\n",
    "a=5\n",
    "b=10\n",
    "print(\"{} ve {}'nun toplamı {}'tir\".format(a,b,a+b))"
   ]
  },
  {
   "cell_type": "code",
   "execution_count": 79,
   "id": "2509a2dd-bb6a-455b-859d-02734cc6e1a4",
   "metadata": {},
   "outputs": [
    {
     "name": "stdout",
     "output_type": "stream",
     "text": [
      "3.46 1.46 5.460 \n"
     ]
    }
   ],
   "source": [
    "#süslü parantez içindeki kullanım, ondalıklı kısmın sadece 2 basamağına kadar almak istediğimizi belirtir\n",
    "print(\"{:.2f} {:.2f} {:.3f} \".format(3.456,1.459,5.4597))"
   ]
  },
  {
   "cell_type": "markdown",
   "id": "bb7e9713-463d-4585-93c1-013b949230d6",
   "metadata": {},
   "source": [
    "\n",
    "\n",
    "\n",
    "\n",
    "\n",
    "----------------------------------------------------------------LİSTELER [] --------------------------------------------------\n",
    "\n",
    "==> Listelerin stringlerden en önemli farkı, listeler değiştirilebilir veri tipidir.\n",
    "==> Listelerde her türden veri saklayabiliyoruz ve bu konu bakımından sıralı dizilere benzerdir.\n"
   ]
  },
  {
   "cell_type": "code",
   "execution_count": 46,
   "id": "11f5ede3-ca3b-4aa2-b377-5d75ce7f6e19",
   "metadata": {},
   "outputs": [
    {
     "name": "stdout",
     "output_type": "stream",
     "text": [
      "<class 'list'>\n",
      "Liste elemanları :  [2, 4, 'Erkan', 3.15]\n",
      "değiştirilen liste ögesi :  Turgut\n",
      "[6, 8, 'Erkan', 3.15]\n",
      "Boş liste :  []\n",
      "Lİste uzunluğu :  4\n"
     ]
    }
   ],
   "source": [
    "liste= [2,4,\"Erkan\",3.15]\n",
    "print(type(liste)) # tip = liste olarak karşımıza çıkar.\n",
    "print(\"Liste elemanları : \", liste)\n",
    "\n",
    "\n",
    "liste[0]=\"Turgut\" # değiştirme\n",
    "print(\"değiştirilen liste ögesi : \" , liste[0])\n",
    "\n",
    "liste[:2]=(6,8) #birden fazla elemanı aynı anda değiştirme\n",
    "print(liste)\n",
    "\n",
    "bosListe=list() #boş liste tanımlama\n",
    "print(\"Boş liste : \" , bosListe)\n",
    "\n",
    "\n",
    "#stringlerde olduğu gibi len() fonk. kullanabiliriz.\n",
    "print(\"Lİste uzunluğu : \" , len(liste))"
   ]
  },
  {
   "cell_type": "code",
   "execution_count": 2,
   "id": "8e50c626-64e3-4066-a884-a9ef8f678b2d",
   "metadata": {},
   "outputs": [
    {
     "name": "stdout",
     "output_type": "stream",
     "text": [
      "['Erkan', 1, 2, 3, 'Turgut', 'BarÜ', 4, 5, 6]\n"
     ]
    }
   ],
   "source": [
    "#listerde tıpkı stringlerde yaptığımız gibi toplam gibi işlemler mevcuttur.\n",
    "liste1=[\"Erkan\",1,2,3]\n",
    "liste2=[\"Turgut\",\"BarÜ\",4,5,6]\n",
    "print(liste1+liste2)   "
   ]
  },
  {
   "cell_type": "markdown",
   "id": "9edaa191-02b8-472f-97eb-bc3f9bd693da",
   "metadata": {},
   "source": [
    "-------------------------------Bazı liste metodları:  \"append\" metodu, verdiğimiz değeri listeye ekelememizi sağlar-------"
   ]
  },
  {
   "cell_type": "code",
   "execution_count": 103,
   "id": "ad234856-760c-44dc-a3d9-f33936677553",
   "metadata": {
    "scrolled": true
   },
   "outputs": [
    {
     "name": "stdout",
     "output_type": "stream",
     "text": [
      "Append ile 4 eklenen liste :  [1, 2, 3, 4]\n",
      "Remove ile 2 kaldırıldı :  [1, 3, 4]\n",
      "Yeniden sıralanmış (reverse) liste :  [4, 3, 1]\n",
      "Listedeki son elemanın pop() metodu ile silinmesi :  [4, 3]\n",
      "sort() metodu ile sıralanmış liste :  [0, 1, 3, 7, 9, 21, 45, 46, 85]\n",
      "Sort(reverse=True) ile yeniden sıralanmış liste :  [85, 46, 45, 21, 9, 7, 3, 1, 0]\n"
     ]
    }
   ],
   "source": [
    "liste=[1,2,3]\n",
    "liste.append(4) # mevcut liste [1,2,3,4) olur.\n",
    "print(\"Append ile 4 eklenen liste : \", liste)\n",
    "\n",
    "\n",
    "liste.remove(2) #2 değerini kaldırı.\n",
    "print(\"Remove ile 2 kaldırıldı : \" , liste)\n",
    "\n",
    "liste.reverse() # listeyi tersten sıralama\n",
    "print(\"Yeniden sıralanmış (reverse) liste : \" ,liste)\n",
    "\n",
    "liste.pop() #listedeki son elemanı silme. Eğer belirli bir indexteki elemanı silmek istersek parametre olarak o index numarasını verebiliriz.\n",
    "print(\"Listedeki son elemanın pop() metodu ile silinmesi : \" , liste)\n",
    "\n",
    "\n",
    "liste3=[1,45,85,46,21,3,7,9,0]\n",
    "liste3.sort() # listeyi büyükten küçüğe ya da alfabetik olarak sıralama.\n",
    "print(\"sort() metodu ile sıralanmış liste : \" , liste3)\n",
    "\n",
    "#sort ile küçükten büyüğe sıraladık, büyükten küçüğe yani bu sefer tersten sıralamak için ise aşağıdaki yöntemi kullanırız.\n",
    "liste3.sort(reverse=True)\n",
    "print(\"Sort(reverse=True) ile yeniden sıralanmış liste : \", liste3)"
   ]
  },
  {
   "cell_type": "markdown",
   "id": "edd3c564-f265-407b-8767-17ede4da7102",
   "metadata": {},
   "source": [
    ".\n",
    ".\n",
    ".\n",
    ".\n",
    ".\n",
    "------------------------------------------------------------PYTHONDA DEMETLER (tuple'lar) ---------------\n",
    "\n",
    "Demetler listelere oldukça benzerlerdir, fakat farklı olarak demetler değiştirilemezler. Bu özelliklerinden dolayı değiştirlmesini istemedğimiz değerleri bir demet(tuple) içinde depolayabiliriz.\n",
    "\n",
    "\n"
   ]
  },
  {
   "cell_type": "markdown",
   "id": "e7e2a864-800f-47d0-9246-7b205465ad5c",
   "metadata": {},
   "source": [
    "DEMET OLUŞTURMA:"
   ]
  },
  {
   "cell_type": "code",
   "execution_count": 109,
   "id": "5f92b5a3-90ca-425e-bb81-39a7dd984fec",
   "metadata": {},
   "outputs": [
    {
     "name": "stdout",
     "output_type": "stream",
     "text": [
      "(1, 2, 3, 4, 5, 6, 7)\n",
      "<class 'tuple'>\n",
      "(1,)\n"
     ]
    }
   ],
   "source": [
    "#demet elemanları parantez içinde yazılır\n",
    "\n",
    "demet=(1,2,3,4,5,6,7)\n",
    "print(demet)\n",
    "\n",
    "#type fonk ile türüne bakalım\n",
    "print(type(demet))\n",
    "\n",
    "#---------------------Tek elemanlı demet aşağıdaki gibi tanımlanabilir\n",
    "tekDemet= (1,)\n",
    "print(tekDemet)"
   ]
  },
  {
   "cell_type": "code",
   "execution_count": 20,
   "id": "b46216db-11c9-4026-a794-0b0d92e2c38e",
   "metadata": {},
   "outputs": [
    {
     "name": "stdout",
     "output_type": "stream",
     "text": [
      "6\n"
     ]
    }
   ],
   "source": [
    "#------------------------------------------- count() methodu\n",
    "demet2=(1,1,1,1,1,1,2,3,4,5,6,7)\n",
    "miktar=demet2.count(1) #demette bulunan 1 sayısının miktarını verir\n",
    "print(miktar)"
   ]
  },
  {
   "cell_type": "code",
   "execution_count": 32,
   "id": "2542659f-f0ac-4f76-b0b2-c0e2ce33e1a6",
   "metadata": {
    "scrolled": true
   },
   "outputs": [
    {
     "name": "stdout",
     "output_type": "stream",
     "text": [
      "İndex numarası :  1\n"
     ]
    }
   ],
   "source": [
    "#---------------index() methodu, istenilen değerin indexini verir\n",
    "demet3=(\"Erkan\",\"Turgut\",12,5,2024)\n",
    "\n",
    "print(\"İndex numarası : \" , demet3.index(\"Turgut\")) "
   ]
  },
  {
   "cell_type": "markdown",
   "id": "498c36bd-d0ef-4465-a68b-8f5ad9e1afbb",
   "metadata": {},
   "source": [
    "\n",
    "\n",
    "\n",
    "\n",
    "\n",
    "\n",
    "-------------------------------------------------------------> Sözlükler ( DICTIONARY'LER)-----------------------\n",
    "Key - Value ile çalışırlar\n",
    "---> {key : value} -> { password : 123123 }\n"
   ]
  },
  {
   "cell_type": "code",
   "execution_count": 1,
   "id": "c929cc31-edf3-469f-8745-1acc89087f64",
   "metadata": {},
   "outputs": [
    {
     "name": "stdout",
     "output_type": "stream",
     "text": [
      "{'one': 1, 'two': 2, 'three': 3, 'zero': 0}\n",
      "{}\n",
      "3\n",
      "4 eklenmiş hali :  {'one': 1, 'two': 2, 'three': 3, 'zero': 0, 'four': 4}\n"
     ]
    }
   ],
   "source": [
    "dictionary1 = {\"one\":1, \"two\":2,\"three\":3,\"zero\":0}\n",
    "print(dictionary1)\n",
    "\n",
    "# boş sözlük\n",
    "emptyDict={}\n",
    "print(emptyDict)\n",
    "\n",
    "#değere ulaşma:\n",
    "deger= dictionary1[\"three\"]\n",
    "print(deger)\n",
    "\n",
    "#eleman ekleme:\n",
    "dictionary1[\"four\"]=4\n",
    "print(\"4 eklenmiş hali : \",dictionary1)"
   ]
  },
  {
   "cell_type": "markdown",
   "id": "1ea5054c-6e61-465d-89da-19091e524122",
   "metadata": {},
   "source": [
    "------------------->İç içe listeler oluşturduğumuz gibi iç içe Dictionary'ler de oluşturabiliriz\n"
   ]
  },
  {
   "cell_type": "code",
   "execution_count": 68,
   "id": "7ad664e7-925b-4c25-acd0-e5fb99dd6383",
   "metadata": {},
   "outputs": [
    {
     "data": {
      "text/plain": [
       "1"
      ]
     },
     "execution_count": 68,
     "metadata": {},
     "output_type": "execute_result"
    }
   ],
   "source": [
    "#içiçe dictionaryler\n",
    "kategoriler={\"meyveler\":{\"kiraz\":1,\"elma\":2,\"muz\":3},\"sebzeler\":{\"salatalık\":10,\"patlıcan\":20,\"kabak\":30}}\n",
    "\n",
    "kategoriler[\"meyveler\"][\"kiraz\"] #meyve anahtarında bulunan kiraz anahtarının değeri\n"
   ]
  },
  {
   "cell_type": "markdown",
   "id": "9b7eabe0-9542-4292-8ac8-19bbd8e76141",
   "metadata": {},
   "source": [
    "------------------------------------------------------> Temel DİCTİONARY metotları -----------------------"
   ]
  },
  {
   "cell_type": "code",
   "execution_count": 70,
   "id": "6af997f6-59e5-4498-b6be-9564a9ce5671",
   "metadata": {},
   "outputs": [
    {
     "name": "stdout",
     "output_type": "stream",
     "text": [
      "dict_values([1, 2, 3])\n"
     ]
    }
   ],
   "source": [
    "# values() metodu sözlüğün value'lerini bir liste olarak verir.\n",
    "\n",
    "dictionary2 = {\"one\":1, \"two\":2,\"three\":3}\n",
    "\n",
    "print(dictionary2.values())\n"
   ]
  },
  {
   "cell_type": "code",
   "execution_count": 72,
   "id": "b80e7b02-df76-4a66-947c-dec43216d9e9",
   "metadata": {},
   "outputs": [
    {
     "name": "stdout",
     "output_type": "stream",
     "text": [
      "dict_keys(['one', 'two', 'three'])\n"
     ]
    }
   ],
   "source": [
    "\n",
    "# keys() metodu sözlüğün key'lerini bir liste olarak verir.\n",
    "\n",
    "dictionary2 = {\"one\":1, \"two\":2,\"three\":3}\n",
    "\n",
    "print(dictionary2.keys())"
   ]
  },
  {
   "cell_type": "code",
   "execution_count": 74,
   "id": "86465333-d0ef-4884-9651-909b823c80eb",
   "metadata": {},
   "outputs": [
    {
     "name": "stdout",
     "output_type": "stream",
     "text": [
      "dict_items([('one', 1), ('two', 2), ('three', 3)])\n"
     ]
    }
   ],
   "source": [
    "\n",
    "#itesm() metodu sözlüğün anahtar ve değerlerini bir liste içinde demet olarak verir.\n",
    "dictionary2 = {\"one\":1, \"two\":2,\"three\":3}\n",
    "print(dictionary2.items())\n"
   ]
  },
  {
   "cell_type": "code",
   "execution_count": 76,
   "id": "6277a686-d451-46bc-93b4-2d35c3063c42",
   "metadata": {},
   "outputs": [
    {
     "name": "stdout",
     "output_type": "stream",
     "text": [
      "one 1\n",
      "two 2\n",
      "three 3\n"
     ]
    }
   ],
   "source": [
    "#for döngüsü kullanarak da listenşn key ve valuelerini elde edebiliriz.\n",
    "\n",
    "dictionary2 = {\"one\":1, \"two\":2,\"three\":3}\n",
    "\n",
    "for k,v in dictionary2.items():\n",
    "    print(k,v)"
   ]
  },
  {
   "cell_type": "markdown",
   "id": "a353cac8-2c42-46df-8d04-910bfcb99f0f",
   "metadata": {},
   "source": [
    "----------------------------------------------------------KULLANICIDAN INPUT ALMA -------------------------------------------------------"
   ]
  },
  {
   "cell_type": "code",
   "execution_count": 6,
   "id": "870af346-6474-4709-9585-e819b7fbfcdc",
   "metadata": {},
   "outputs": [
    {
     "name": "stdin",
     "output_type": "stream",
     "text": [
      "Yaşınızı giriniz:  54\n",
      "İsminizi Giriniz:  aaa\n"
     ]
    },
    {
     "data": {
      "text/plain": [
       "'aaa'"
      ]
     },
     "execution_count": 6,
     "metadata": {},
     "output_type": "execute_result"
    }
   ],
   "source": [
    "#kullanıcıdan ınput almayı ınput() fonksşyonu ile yaparız.\n",
    "input(\"Yaşınızı giriniz: \")\n",
    "input(\"İsminizi Giriniz: \")"
   ]
  },
  {
   "cell_type": "code",
   "execution_count": 82,
   "id": "bd9bbab3-0d83-41af-a051-b66d19b7eb99",
   "metadata": {},
   "outputs": [
    {
     "name": "stdin",
     "output_type": "stream",
     "text": [
      "Lütfen bir değer giriniz  :  54654\n"
     ]
    },
    {
     "name": "stdout",
     "output_type": "stream",
     "text": [
      "Kullanıcıdan girilen değer :  54654\n"
     ]
    }
   ],
   "source": [
    "# kullanımını genelde bir değişkene atama yapılarak yaparız.\n",
    "\n",
    "girdi= input(\"Lütfen bir değer giriniz  : \")\n",
    "print(\"Kullanıcıdan girilen değer : \",girdi)"
   ]
  },
  {
   "cell_type": "code",
   "execution_count": 10,
   "id": "eac59f30-23d6-485a-a298-56fbd2db4492",
   "metadata": {},
   "outputs": [
    {
     "name": "stdin",
     "output_type": "stream",
     "text": [
      "Lütfen bir sayı giriniz 54\n"
     ]
    },
    {
     "name": "stdout",
     "output_type": "stream",
     "text": [
      "Kullanıcıdan alınan değer: 54\n",
      "270\n"
     ]
    }
   ],
   "source": [
    "#inputtan gelen değerler hep string döner bu yüzden direk gelen değerle matematiksel işlemler yapamayız. Bunun öncesinde tip dönüşümü yapmalıyız.\n",
    "\n",
    "intGirdi=int(input(\"Lütfen bir sayı giriniz\")) #Girilen değeri int türünde al\n",
    "print(\"Kullanıcıdan alınan değer:\",intGirdi)\n",
    "print(intGirdi*5)  \n"
   ]
  },
  {
   "cell_type": "code",
   "execution_count": 14,
   "id": "906869ba-dbfe-4932-8364-8dc1f16fe149",
   "metadata": {},
   "outputs": [
    {
     "name": "stdin",
     "output_type": "stream",
     "text": [
      "Lütfen bir sayı giriniz:  asa\n"
     ]
    },
    {
     "name": "stdout",
     "output_type": "stream",
     "text": [
      "Lütfen sadece sayısal değerler giriniz !\n"
     ]
    }
   ],
   "source": [
    "# Kullanıcı bazen doğru formatta değer girmeyebilir, bunu öngörüp olası durumda kullanıcıyı doğru format girmesi için uyarmamız lazım. Bunun için try bloğunu kullanabiliriz.\n",
    "try:\n",
    "    number=int(input(\"Lütfen bir sayı giriniz: \"))\n",
    "    print(\"Girilen değer: \",number)\n",
    "except ValueError:\n",
    "    print(\"Lütfen sadece sayısal değerler giriniz !\")"
   ]
  },
  {
   "cell_type": "markdown",
   "id": "3a77325a-f6bc-49dd-800c-397884b6d8ca",
   "metadata": {},
   "source": [
    "\n",
    "\n",
    "\n",
    "------------------------------------------------------------KOŞULLU DURUMLAR---------------------------------------------------"
   ]
  },
  {
   "cell_type": "code",
   "execution_count": 10,
   "id": "da0d2b25-b545-401c-aeef-90556b6af45c",
   "metadata": {},
   "outputs": [
    {
     "name": "stdout",
     "output_type": "stream",
     "text": [
      " ************************************Mekan müşteri kontrol sistemi ********************************\n"
     ]
    },
    {
     "name": "stdin",
     "output_type": "stream",
     "text": [
      "Yaşınızı giriniz :  21\n"
     ]
    },
    {
     "name": "stdout",
     "output_type": "stream",
     "text": [
      "Hoşgeldiniz\n"
     ]
    }
   ],
   "source": [
    "# pythonda if blokları girinti(tab) ile oluşturulur, girintideki durumlar koşul sağlanırsa çalışır.\n",
    "\n",
    "print(\" ************************************Mekan müşteri kontrol sistemi ********************************\")\n",
    "\n",
    "yas=int(input(\"Yaşınızı giriniz : \" ))\n",
    "\n",
    "if (yas<=18):\n",
    "    print(\"ÜZgünüz,yaş koşullarını sağlayamadığınız içi girişinize izi verilememektedir\")\n",
    "else:\n",
    "    print(\"Hoşgeldiniz\")\n",
    "\n",
    "\n",
    "# elif = else if "
   ]
  },
  {
   "cell_type": "markdown",
   "id": "29b42300-0991-4fae-a601-14acbabaf778",
   "metadata": {},
   "source": []
  },
  {
   "cell_type": "markdown",
   "id": "093bb821-7416-4cc5-b895-e3f7acbe4834",
   "metadata": {},
   "source": [
    ".\n",
    ".\n",
    ".\n",
    ".\n",
    ".----------------------------------------------------------->DÖNGÜLER---------------------------------------------------"
   ]
  },
  {
   "cell_type": "code",
   "execution_count": 16,
   "id": "22b532b1-fb2a-4b76-97f4-827ea18a8d5d",
   "metadata": {},
   "outputs": [
    {
     "data": {
      "text/plain": [
       "True"
      ]
     },
     "execution_count": 16,
     "metadata": {},
     "output_type": "execute_result"
    }
   ],
   "source": [
    "# in ile kontrol yaparız.\n",
    "\n",
    "a=[1,2,3,4]\n",
    "5 in a # false\n",
    "1 in a #true"
   ]
  },
  {
   "cell_type": "code",
   "execution_count": 7,
   "id": "ca6710e5-bb53-482c-a751-a6a679396c4b",
   "metadata": {},
   "outputs": [
    {
     "name": "stdout",
     "output_type": "stream",
     "text": [
      "Eleman 1\n",
      "Eleman 2\n",
      "Eleman 3\n",
      "Eleman 4\n",
      "Eleman 5\n",
      "Eleman 6\n",
      "Eleman 7\n"
     ]
    }
   ],
   "source": [
    "liste = [1,2,3,4,5,6,7]\n",
    "\n",
    "for eleman in liste: #listenin içinde bir eleman tanımı yapıp bu liste boyunca eleamnı kullanacağız.\n",
    "    print(\"Eleman\",eleman)"
   ]
  },
  {
   "cell_type": "code",
   "execution_count": 18,
   "id": "b3a6cf51-0e32-4f71-893f-533b874d9596",
   "metadata": {},
   "outputs": [
    {
     "name": "stdout",
     "output_type": "stream",
     "text": [
      "Toplam :  108\n",
      "E\n",
      "R\n",
      "K\n",
      "A\n",
      "N\n"
     ]
    }
   ],
   "source": [
    " #Döngü ile liste elemanlarını toplama \n",
    "\n",
    "liste = [1,5,6,7,8,81]\n",
    "toplam = 0;\n",
    "for i in liste:\n",
    "    toplam +=i\n",
    "print(\"Toplam : \",toplam)\n",
    "\n",
    "#Sözcük karakterleri üzerinde gezinmek.\n",
    "kelime = \"ERKAN\"\n",
    "for harf in kelime:\n",
    "    print(harf)\n",
    "\n"
   ]
  },
  {
   "cell_type": "markdown",
   "id": "99838a3c-5686-4045-8c44-e6154ccd176a",
   "metadata": {},
   "source": [
    "------->Demetlerin üzerinde for döngüsü uygularken aslında çok pratik bir yöntem bulunuyor. Aşağıdaki örneği yazalım"
   ]
  },
  {
   "cell_type": "code",
   "execution_count": 42,
   "id": "54036c0d-d3ef-414f-99d2-39c46a3bffb2",
   "metadata": {},
   "outputs": [
    {
     "name": "stdout",
     "output_type": "stream",
     "text": [
      "1 2\n",
      "3 4\n",
      "5 6\n",
      "---------------------------------------------------\n",
      "(1, 2)\n",
      "(3, 4)\n",
      "(5, 6)\n",
      " \n"
     ]
    }
   ],
   "source": [
    "liste =[(1,2),(3,4),(5,6)] \n",
    "\n",
    "for i,j in liste: # Liste içinde bulunan demetin elemanlarına teker teker ulaşıyoruz\n",
    "    print(i,j)\n",
    "    \n",
    "print(\"---------------------------------------------------\")\n",
    "\n",
    "for demetElemanı in liste : # Listenin elemanlarının birer demet olduğunu görüyoruz.\n",
    "    print(demetElemanı)\n",
    "print(\" \")"
   ]
  },
  {
   "cell_type": "markdown",
   "id": "168ead70-d25b-4f3a-a0dc-e054c0dab3bb",
   "metadata": {},
   "source": [
    ".\n",
    ".\n",
    ".\n",
    ".\n",
    ".\n",
    "-----------------> while döngüleri belli bir koşul sağlandığı sürece bloğundaki işlemleri gerçekleştirmeye devam eder. while döngülerinin sona ermesi için koşul durumunun bir süre sonra False olması gereklidir.Yapısı şu şekildedir;\n",
    "\n",
    "                            while (koşul):\n",
    "                                İşlem1\n",
    "                                İşlem2\n",
    "                                İşlem3\n",
    "                                  //\n",
    "                                  //"
   ]
  },
  {
   "cell_type": "code",
   "execution_count": 20,
   "id": "4fa59469-b50c-4fd0-b6b7-890992225a57",
   "metadata": {},
   "outputs": [
    {
     "name": "stdout",
     "output_type": "stream",
     "text": [
      "Python Öğreniyorum\n",
      "Python Öğreniyorum\n",
      "Python Öğreniyorum\n",
      "Python Öğreniyorum\n",
      "Python Öğreniyorum\n"
     ]
    }
   ],
   "source": [
    "# Ekrana 10 defa \"Python Öğreniyorum\" yazdıralım.\n",
    "i = 0\n",
    "\n",
    "while (i < 10):\n",
    "    print(\"Python Öğreniyorum\")\n",
    "    i +=2"
   ]
  },
  {
   "cell_type": "code",
   "execution_count": 22,
   "id": "a1a3cb51-dace-4d4e-9bcb-98812640f89d",
   "metadata": {},
   "outputs": [
    {
     "name": "stdout",
     "output_type": "stream",
     "text": [
      "Indeks: 0 Eleman: 1\n",
      "Indeks: 1 Eleman: 2\n",
      "Indeks: 2 Eleman: 3\n",
      "Indeks: 3 Eleman: 4\n",
      "Indeks: 4 Eleman: 5\n"
     ]
    }
   ],
   "source": [
    "# Liste üzerinde indeks ile gezinme\n",
    "liste = [1,2,3,4,5]\n",
    "\n",
    "a = 0 \n",
    "\n",
    "while (a < len(liste)):\n",
    "    print(\"Indeks:\",a,\"Eleman:\",liste[a])\n",
    "    a +=1"
   ]
  },
  {
   "cell_type": "markdown",
   "id": "3d49ee8f-0118-4a62-bc4d-3898200ce119",
   "metadata": {},
   "source": [
    "--------------------------------------------------------> RANGE() fonksiyonu ----------------------------------\n",
    "range hazır fonksiyonu bizim verdiğimiz değerlere göre range isimli bir yapı oluşturur ve \n",
    "bu yapı listelere oldukça benzer. Bu yapı başlangıç, bitiş ve opsiyonel olarak artırma değeri alarak listelere benzeyen bir sayı dizisi oluşturur. \n",
    "Kullanımlarını öğrenmeye başlayalım."
   ]
  },
  {
   "cell_type": "code",
   "execution_count": 46,
   "id": "f3e512a8-90ed-4f0a-8a1a-7fa325a0927e",
   "metadata": {},
   "outputs": [
    {
     "data": {
      "text/plain": [
       "range(0, 20)"
      ]
     },
     "execution_count": 46,
     "metadata": {},
     "output_type": "execute_result"
    }
   ],
   "source": [
    "range(0,20)"
   ]
  },
  {
   "cell_type": "code",
   "execution_count": 44,
   "id": "4b238e91-f4f4-4b99-8137-fdacca800cbc",
   "metadata": {},
   "outputs": [
    {
     "name": "stdout",
     "output_type": "stream",
     "text": [
      "0 1 2 3 4 5 6 7 8 9 10 11 12 13 14\n"
     ]
    }
   ],
   "source": [
    "# Yazdırmak için başına \"*\" koymamız gerekiyor.***********************\n",
    "print(*range(0,15))"
   ]
  },
  {
   "cell_type": "code",
   "execution_count": 92,
   "id": "1f38fbd9-e6c4-4705-835f-8320a1f5b393",
   "metadata": {},
   "outputs": [
    {
     "name": "stdout",
     "output_type": "stream",
     "text": [
      "Range ile oluşturulan liste:  [0, 1, 2, 3, 4, 5, 6, 7, 8, 9, 10, 11, 12, 13, 14]\n",
      " \n",
      "Liste içinde bulunan çift elemanlar: \n",
      "0\n",
      "2\n",
      "4\n",
      "6\n",
      "8\n",
      "10\n",
      "12\n",
      "14\n"
     ]
    }
   ],
   "source": [
    "#şimdi bu yapıyla berbaer bir liste oluşturalım.\n",
    "\n",
    "liste = list(range(0, 15))\n",
    "print(\"Range ile oluşturulan liste: \", liste)\n",
    "print(\" \")\n",
    "print(\"Liste içinde bulunan çift elemanlar: \")\n",
    "for eleman in liste:\n",
    "    if eleman % 2 == 0:  # % işareti mod alma işlemi yapar\n",
    "        print(eleman)"
   ]
  },
  {
   "cell_type": "code",
   "execution_count": 94,
   "id": "696bfc1f-2d97-4a60-962e-8c04042435f2",
   "metadata": {},
   "outputs": [
    {
     "name": "stdout",
     "output_type": "stream",
     "text": [
      "5 7 9 11 13 15 17 19\n"
     ]
    }
   ],
   "source": [
    "# ---------------------->\n",
    "print(*range(5,20,2)) # 5'ten 20'ye kadar olan sayıları 2 atlayarak oluşturur."
   ]
  },
  {
   "cell_type": "code",
   "execution_count": 96,
   "id": "5ba45a5d-e81d-4bc2-a93c-c7c2e3f18df4",
   "metadata": {},
   "outputs": [
    {
     "name": "stdout",
     "output_type": "stream",
     "text": [
      "0\n",
      "1\n",
      "2\n",
      "3\n",
      "4\n",
      "5\n",
      "6\n",
      "7\n",
      "8\n",
      "9\n"
     ]
    }
   ],
   "source": [
    "# Şimdi bu yapıyı döngülerde nasıl kullanabileceğimize bakalım\n",
    "for sayı in range(0,10):\n",
    "    print(sayı)"
   ]
  },
  {
   "cell_type": "code",
   "execution_count": 42,
   "id": "aa9c5252-2378-44c8-ae40-2c6aac10810d",
   "metadata": {},
   "outputs": [
    {
     "name": "stdout",
     "output_type": "stream",
     "text": [
      "* \n",
      "* * \n",
      "* * * \n",
      "* * * * \n"
     ]
    }
   ],
   "source": [
    "for sayı in range(1,5): # 1 2 3 4 5 \n",
    "    print(\"* \" * sayı)"
   ]
  },
  {
   "cell_type": "markdown",
   "id": "56773bed-5dbf-4a46-bf70-0138b91db10f",
   "metadata": {},
   "source": [
    "-------------------------------------------------BREAK ve CONTINUE ifadeleri---------------------"
   ]
  },
  {
   "cell_type": "markdown",
   "id": "3be04aae-4760-4b63-bbea-6072218fd997",
   "metadata": {},
   "source": [
    "        Döngü herhangi bir yerde ve herhangi bir zamanda \"break\" ifadesiyle karşılaştığı zaman\n",
    "        çalışmasını bir anda durdurur. Böylelikle döngü hiçbir koşula bağlı kalmadan sonlanmış olur.\n",
    "\n",
    "\n",
    "-------------->break ifadesi \"\"sadece ve sadece içindeki bulunduğu döngüyü sonlandırır.\"\" Eğer iç içe döngüler bulunuyorsa ve en içteki döngüde break kullanılmışsa sadece içteki döngü sona erer. Örneklerle break ifadesini anlamaya çalışalım."
   ]
  },
  {
   "cell_type": "code",
   "execution_count": 46,
   "id": "cdc8fcb2-3034-4b0c-a543-e036fd09d4af",
   "metadata": {},
   "outputs": [
    {
     "name": "stdout",
     "output_type": "stream",
     "text": [
      "0\n",
      "1\n",
      "2\n",
      "3\n",
      "4\n",
      "5\n",
      "6\n",
      "7\n",
      "8\n",
      "9\n",
      "10\n"
     ]
    }
   ],
   "source": [
    "i = 0 \n",
    "\n",
    "while (i < 20):\n",
    "    print(i)\n",
    "    if (i == 10):\n",
    "        break # i'nin değeri 10 olunca bu koşul sağlanıyor ve  break ifadesiyle karşılaşıldığı için döngü anında sona eriyor.\n",
    "    i +=1"
   ]
  },
  {
   "cell_type": "code",
   "execution_count": 52,
   "id": "40548e82-19c4-4adc-81dc-3e966716cf22",
   "metadata": {},
   "outputs": [
    {
     "name": "stdin",
     "output_type": "stream",
     "text": [
      "İsminiz(Çıkmak için q tuşuna basın.): s\n"
     ]
    },
    {
     "name": "stdout",
     "output_type": "stream",
     "text": [
      "s\n"
     ]
    },
    {
     "name": "stdin",
     "output_type": "stream",
     "text": [
      "İsminiz(Çıkmak için q tuşuna basın.): s\n"
     ]
    },
    {
     "name": "stdout",
     "output_type": "stream",
     "text": [
      "s\n"
     ]
    },
    {
     "name": "stdin",
     "output_type": "stream",
     "text": [
      "İsminiz(Çıkmak için q tuşuna basın.): s\n"
     ]
    },
    {
     "name": "stdout",
     "output_type": "stream",
     "text": [
      "s\n"
     ]
    },
    {
     "name": "stdin",
     "output_type": "stream",
     "text": [
      "İsminiz(Çıkmak için q tuşuna basın.): s\n"
     ]
    },
    {
     "name": "stdout",
     "output_type": "stream",
     "text": [
      "s\n"
     ]
    },
    {
     "name": "stdin",
     "output_type": "stream",
     "text": [
      "İsminiz(Çıkmak için q tuşuna basın.): s\n"
     ]
    },
    {
     "name": "stdout",
     "output_type": "stream",
     "text": [
      "s\n"
     ]
    },
    {
     "name": "stdin",
     "output_type": "stream",
     "text": [
      "İsminiz(Çıkmak için q tuşuna basın.): q\n"
     ]
    },
    {
     "name": "stdout",
     "output_type": "stream",
     "text": [
      "Çıkış yapılıyor...\n",
      " \n",
      "Çıkış yapıldı\n"
     ]
    }
   ],
   "source": [
    "while True: # Sonsuz döngü. Nasıl sonlandırabiliriz ? \n",
    "    isim = input(\"İsminiz(Çıkmak için q tuşuna basın.):\") # şart True olduğu için break şartı sağlanmadığı sürece bu işlem devam eder.\n",
    "    if (isim == \"q\"): # break ile tabii ki.\n",
    "        print(\"Çıkış yapılıyor...\")\n",
    "        break\n",
    "    print(isim)\n",
    "print(\" \")\n",
    "print(\"Çıkış yapıldı !\")\n",
    "    "
   ]
  },
  {
   "cell_type": "markdown",
   "id": "c4ca5946-f8cc-4389-8af4-c698282666b0",
   "metadata": {},
   "source": [
    "-----------------> CONTINUE ifadesi,     \n",
    "          Döngü herhangi bir yerde ve herhangi bir zamanda continue ifadesiyle karşılaştığı zaman geri kalan işlemlerini\n",
    "          yapmadan direk bloğunun başına döner."
   ]
  },
  {
   "cell_type": "code",
   "execution_count": 64,
   "id": "8ab05d68-dcfc-4d0c-b95d-8b456c1d92c0",
   "metadata": {},
   "outputs": [
    {
     "name": "stdout",
     "output_type": "stream",
     "text": [
      "Liste elemanı :  1\n",
      "Liste elemanı :  2\n",
      "Liste elemanı :  3\n",
      "Liste elemanı :  5\n",
      "Liste elemanı :  6\n",
      "Liste elemanı :  7\n",
      "Liste elemanı :  9\n",
      "Liste elemanı :  10\n"
     ]
    }
   ],
   "source": [
    " liste = [1,2,3,4,5,6,7,8,9,10]\n",
    "\n",
    "for i in liste:\n",
    "    if(i==4 or i==8):\n",
    "        continue;\n",
    "    print( \"Liste elemanı : \" , i);\n"
   ]
  },
  {
   "cell_type": "markdown",
   "id": "1bb74bdf-71fe-44a8-afef-5f26aaf7bbde",
   "metadata": {},
   "source": [
    "-----------------------------------------------------------------> LIST COMPREHENSION------------------------------------"
   ]
  },
  {
   "cell_type": "markdown",
   "id": "892ea58d-938b-40d2-9f3f-136a34daeae3",
   "metadata": {},
   "source": [
    "\n",
    "Python'da list comprehension, bir listeyi hızlı ve sade bir şekilde oluşturmanın kısa bir yoludur. Normalde döngülerle yapılacak liste oluşturma işlemini tek satırda halletmeye yarar.\n",
    "\n",
    "En basit haliyle şu şekildedir:\n",
    "\n",
    "yeni_liste = [ifade  for eleman in koleksiyon if koşul] \n",
    "\n",
    "\n",
    "----------------------------------->Kısacası : Bir döngü kullanarak kısa yoldan bir liste oluşturan Python yapısıdır."
   ]
  },
  {
   "cell_type": "code",
   "execution_count": null,
   "id": "ef881ed8-999d-4ca5-9e4f-5d2a3238fdc6",
   "metadata": {},
   "outputs": [],
   "source": [
    "# örneğin normal olarak liste1'den liste2 oluşturalım\n",
    "\n",
    "liste1 = [1,2,3,4,5]\n",
    "\n",
    "liste2 = list() # veya liste2 = [] ikisi de boş liste oluşturur.\n",
    "\n",
    "\n",
    "for i in liste1:\n",
    "    liste2.append(i) # liste2 'ye liste1 in elemanları for döngüsü yardımıyla atıyoruz.\n",
    "    \n",
    "print(liste2)\n"
   ]
  },
  {
   "cell_type": "markdown",
   "id": "c653e876-1563-467b-a9cd-b96b020db25a",
   "metadata": {},
   "source": [
    "Bu oluşumu List comprehension ile daha kısa bir şekilde yapabiliriz."
   ]
  },
  {
   "cell_type": "code",
   "execution_count": 72,
   "id": "5b82e4f5-7516-406a-8a81-5982a2b7ce02",
   "metadata": {},
   "outputs": [
    {
     "name": "stdout",
     "output_type": "stream",
     "text": [
      "Liste1'den liste2 oluşumu:  [1, 2, 3, 4, 5, 6]\n"
     ]
    }
   ],
   "source": [
    "liste1 =[1,2,3,4,5,6]\n",
    "\n",
    "liste2 = [i for i in liste1]  # List comprehension\n",
    "\n",
    "print(\"Liste1'den liste2 oluşumu: \", liste2)\n",
    "         "
   ]
  },
  {
   "cell_type": "code",
   "execution_count": 74,
   "id": "5bf19284-304c-4360-ac4f-8d1a85760f5b",
   "metadata": {},
   "outputs": [
    {
     "name": "stdout",
     "output_type": "stream",
     "text": [
      "[2, 12, 30]\n"
     ]
    }
   ],
   "source": [
    "liste1 = [(1,2),(3,4),(5,6)] # Örnek 3\n",
    "\n",
    "liste2 = [i*j for (i,j) in liste1] # List Comprehension ( liste1'de bulunan demet elemanlarını birbiri ile çarptık)\n",
    "\n",
    "print(liste2)"
   ]
  },
  {
   "cell_type": "code",
   "execution_count": 76,
   "id": "8a7f1255-6dd8-42f9-bfa3-dab7a315d2b1",
   "metadata": {},
   "outputs": [
    {
     "name": "stdout",
     "output_type": "stream",
     "text": [
      "[1, 2, 3, 5, 6, 7, 8, 10]\n"
     ]
    }
   ],
   "source": [
    "liste1 = [1,2,3,4,5,6,7,8,9,10] # Örnek 4\n",
    "\n",
    "liste2 = [i for i in liste1 if not (i == 4 or i == 9)] # List Comprehension( liste1'den liste2 oluştur ama 4 ve 9 sayısını dahil etme)\n",
    "\n",
    "print(liste2)"
   ]
  },
  {
   "cell_type": "code",
   "execution_count": null,
   "id": "f092fee5-3417-41ed-92f2-51ef6f6251ec",
   "metadata": {},
   "outputs": [],
   "source": []
  }
 ],
 "metadata": {
  "kernelspec": {
   "display_name": "Python 3 (ipykernel)",
   "language": "python",
   "name": "python3"
  },
  "language_info": {
   "codemirror_mode": {
    "name": "ipython",
    "version": 3
   },
   "file_extension": ".py",
   "mimetype": "text/x-python",
   "name": "python",
   "nbconvert_exporter": "python",
   "pygments_lexer": "ipython3",
   "version": "3.12.4"
  }
 },
 "nbformat": 4,
 "nbformat_minor": 5
}
